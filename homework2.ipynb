{
  "cells": [
    {
      "cell_type": "markdown",
      "source": [
        "<h1>ДЗ2 Numpy Иванов Даниил Вариант 6</h1>"
      ],
      "metadata": {
        "id": "CevUr9ON6mCd"
      }
    },
    {
      "cell_type": "markdown",
      "source": [
        "<h1> Импорты <h1>"
      ],
      "metadata": {
        "id": "9UZHRgFP6e1Y"
      }
    },
    {
      "cell_type": "code",
      "source": [
        "import numpy as np\n",
        "import random\n",
        "import time\n",
        "import matplotlib.pyplot as plt"
      ],
      "metadata": {
        "id": "4mcPE24oSZEK"
      },
      "execution_count": 285,
      "outputs": []
    },
    {
      "cell_type": "markdown",
      "source": [
        "# Задание 1"
      ],
      "metadata": {
        "id": "igzqj8U0lbRv"
      }
    },
    {
      "cell_type": "markdown",
      "metadata": {
        "id": "IOBO8CChLZ13"
      },
      "source": [
        "На маркетплейсе есть огромный объем данных содержащий записи о продажах различных продуктов. Наша цель — рассчитать общий доход, полученный от каждого продукта за определённый период.\n",
        "\n",
        "Необходимо решить задачу через классический python, numpy и numpy с использованием векторизации\n",
        "\n",
        "\n",
        "Данные:\n",
        "products = ['автомобиль HAVAL', 'обувь', 'одежда', 'телефоны'] (при решении через numpy необходимо представить это в виде np.array() )\n",
        "prices = [20000, 3000, 45600, 5000] (при решении через numpy необходимо представить это в виде np.array() )\n",
        "\n",
        "Данные о продажах необходимо сгенерировать самостоятельно и вывести в одном параграфов в ноутбуке, ниже приведен пример генерации случайных значений"
      ]
    },
    {
      "cell_type": "code",
      "execution_count": 5,
      "metadata": {
        "colab": {
          "base_uri": "https://localhost:8080/"
        },
        "id": "-k3OV9N_LZ14",
        "outputId": "4e9c048d-a8a3-4f41-9790-160330c9a931"
      },
      "outputs": [
        {
          "output_type": "stream",
          "name": "stdout",
          "text": [
            "[382080000, 57882000, 912501600, 102810000]\n"
          ]
        }
      ],
      "source": [
        "# пример генерации на python\n",
        "\n",
        "import random\n",
        "prices = [20000, 3000, 45600, 5000]\n",
        "products = products = ['автомобиль HAVAL', 'обувь', 'одежда', 'телефоны']\n",
        "variant = 6 # подставьте номер своего  варианта"
      ]
    },
    {
      "cell_type": "markdown",
      "source": [
        "<h1>Генерируем данные для 3 алгоритмов</h1>"
      ],
      "metadata": {
        "id": "vDCmVPlkk4Xz"
      }
    },
    {
      "cell_type": "code",
      "source": [
        "# генерим данные\n",
        "sales = [random.randint(0, 100+variant) for i in range(1000000)]\n",
        "sales[:3]"
      ],
      "metadata": {
        "id": "OJAeKbSCsqTw",
        "colab": {
          "base_uri": "https://localhost:8080/"
        },
        "outputId": "a2dece7e-6425-449b-e208-fef5769a4a1d"
      },
      "execution_count": 104,
      "outputs": [
        {
          "output_type": "execute_result",
          "data": {
            "text/plain": [
              "[0, 95, 19]"
            ]
          },
          "metadata": {},
          "execution_count": 104
        }
      ]
    },
    {
      "cell_type": "code",
      "source": [
        "# данные для np\n",
        "sales_np = np.array(sales).reshape(250000,4)\n",
        "sales_np"
      ],
      "metadata": {
        "id": "CEpEC37zvkE4",
        "colab": {
          "base_uri": "https://localhost:8080/"
        },
        "outputId": "767b3ee5-9074-480d-d1e1-4758cc5dfa9f"
      },
      "execution_count": 108,
      "outputs": [
        {
          "output_type": "execute_result",
          "data": {
            "text/plain": [
              "array([[  0,  95,  19,  23],\n",
              "       [ 92,  16,  72,  54],\n",
              "       [ 48,  79,  73,  13],\n",
              "       ...,\n",
              "       [ 87, 101,  67,  49],\n",
              "       [ 57,  73,  39,  10],\n",
              "       [ 14,  39,  17, 100]])"
            ]
          },
          "metadata": {},
          "execution_count": 108
        }
      ]
    },
    {
      "cell_type": "markdown",
      "source": [
        "<h1>Классический Python</h1>\n"
      ],
      "metadata": {
        "id": "cydmL9UGk0OI"
      }
    },
    {
      "cell_type": "code",
      "source": [
        "%%time\n",
        "\n",
        "# реализация на классическом python\n",
        "total_revenue = [0,0,0,0]\n",
        "\n",
        "for i in range(0, len(sales), 4):\n",
        "  for j in range(len(total_revenue)):\n",
        "    revenue_per_current_item = sales[i+j]*prices[j]\n",
        "    total_revenue[j] += revenue_per_current_item\n",
        "\n",
        "print(total_revenue)\n"
      ],
      "metadata": {
        "colab": {
          "base_uri": "https://localhost:8080/"
        },
        "id": "qCmj5FdFv8ry",
        "outputId": "559cbfaa-00c6-4be9-bc34-b0723ab1f028"
      },
      "execution_count": 86,
      "outputs": [
        {
          "output_type": "stream",
          "name": "stdout",
          "text": [
            "[265562780000, 39750702000, 604058001600, 66204935000]\n",
            "CPU times: user 428 ms, sys: 1.3 ms, total: 430 ms\n",
            "Wall time: 432 ms\n"
          ]
        }
      ]
    },
    {
      "cell_type": "markdown",
      "source": [
        "<h1>Numpy с векторизацией</h1>\n"
      ],
      "metadata": {
        "id": "_7gSTSLnkxG5"
      }
    },
    {
      "cell_type": "code",
      "source": [
        "%%time\n",
        "sales_np = np.array(sales).reshape(250000,4)\n",
        "total_revenue = sum(sales_np*prices)\n",
        "\n",
        "print(total_revenue)"
      ],
      "metadata": {
        "colab": {
          "base_uri": "https://localhost:8080/"
        },
        "id": "WA_tc-3jylOK",
        "outputId": "7bcd3c03-7ed0-41d4-8ab9-4478f0453043"
      },
      "execution_count": 286,
      "outputs": [
        {
          "output_type": "stream",
          "name": "stdout",
          "text": [
            "[265397020000  39766713000 603563697600  66205805000]\n",
            "CPU times: user 239 ms, sys: 1.96 ms, total: 241 ms\n",
            "Wall time: 241 ms\n"
          ]
        }
      ]
    },
    {
      "cell_type": "markdown",
      "source": [
        "<h1>Numpy без векторизации</h1>\n"
      ],
      "metadata": {
        "id": "UIurcvKT5yBr"
      }
    },
    {
      "cell_type": "code",
      "source": [
        "%%time\n",
        "sales_np = sales_np.reshape(1, 1000000)\n",
        "total_revenue_np = np.array([0,0,0,0])\n",
        "prices_np = np.array(prices)\n",
        "\n",
        "cars_sold = sales_np[0][0::4] * prices_np[0]\n",
        "boots_sold = sales_np[0][1::4] * prices_np[1]\n",
        "clothes_sold = sales_np[0][2::4] * prices_np[2]\n",
        "phones_sold = sales_np[0][3::4] * prices_np[3]\n",
        "\n",
        "total_revenue = [sum(cars_sold), sum(boots_sold), sum(clothes_sold), sum(phones_sold)]\n",
        "\n",
        "print(total_revenue)\n",
        "\n"
      ],
      "metadata": {
        "colab": {
          "base_uri": "https://localhost:8080/"
        },
        "id": "MVf3OSBQyxHw",
        "outputId": "6045adcd-15ef-4aa8-ec46-0dbba2dbebe0"
      },
      "execution_count": 287,
      "outputs": [
        {
          "output_type": "stream",
          "name": "stdout",
          "text": [
            "[265397020000, 39766713000, 603563697600, 66205805000]\n",
            "CPU times: user 100 ms, sys: 1.92 ms, total: 102 ms\n",
            "Wall time: 106 ms\n"
          ]
        }
      ]
    },
    {
      "cell_type": "markdown",
      "source": [
        "<h1>Выводы из временных данных</h1>\n",
        "\n",
        "\n",
        "\n",
        "\n"
      ],
      "metadata": {
        "id": "iR2yjEAcjZeJ"
      }
    },
    {
      "cell_type": "markdown",
      "source": [
        "С учётом выполнения алгоритмов на одинаковых датасетах (генерация данных осуществлялась предварительно)\n",
        "\n",
        "- Среднее время выполнение кода на классическом Python составляет около 400 мс\n",
        "- Среднее время выполнения кода на numpy без векторизации - 100 мс\n",
        "- Среднее время выполнения кода на numpy с векторизацией - 250 мс\n"
      ],
      "metadata": {
        "id": "uPcKGiSyjeEg"
      }
    },
    {
      "cell_type": "markdown",
      "metadata": {
        "id": "4SnUXrwCLZ15"
      },
      "source": [
        "# Задание 2"
      ]
    },
    {
      "cell_type": "markdown",
      "metadata": {
        "id": "ww5T8Yh_LZ16"
      },
      "source": [
        "Необходимо написать с использованием numpy реализацию одного из следующих алгоритмов:\n",
        "\n",
        "- heapsort (вариант: 1,5,9,13,17,21)\n",
        "\n",
        "- mergesort (вариант: 2,6,10,14,18,22)\n",
        "\n",
        "- stable (вариант: 3,7,11,15,19)\n",
        "\n",
        "- quicksort (вариант: 4,8,12,16,20)\n",
        "\n",
        "Сравнить скорость выполнения этих алгоритмов на чистом python, вашей реализации и numpy.sort()"
      ]
    },
    {
      "cell_type": "markdown",
      "source": [
        "<h1>Реализации mergesort на чистом Python</h1>"
      ],
      "metadata": {
        "id": "dPdvA0d5mCpY"
      }
    },
    {
      "cell_type": "code",
      "source": [
        "data = [random.randint(0, 100+variant) for i in range(1000000)]"
      ],
      "metadata": {
        "id": "fiEFjdjznvaW"
      },
      "execution_count": 362,
      "outputs": []
    },
    {
      "cell_type": "code",
      "source": [
        "def mergesort(data):\n",
        "    if len(data) > 1:\n",
        "        mid = len(data) // 2\n",
        "        left = data[:mid]\n",
        "        right = data[mid:]\n",
        "\n",
        "        mergesort(left)\n",
        "        mergesort(right)\n",
        "\n",
        "        i = j = k = 0\n",
        "\n",
        "        while i < len(left) and j < len(right):\n",
        "            if left[i] <= right[j]:\n",
        "              data[k] = left[i]\n",
        "              i += 1\n",
        "            else:\n",
        "                data[k] = right[j]\n",
        "                j += 1\n",
        "            k += 1\n",
        "\n",
        "        while i < len(left):\n",
        "            data[k] = left[i]\n",
        "            i += 1\n",
        "            k += 1\n",
        "\n",
        "        while j < len(right):\n",
        "            data[k]=right[j]\n",
        "            j += 1\n",
        "            k += 1"
      ],
      "metadata": {
        "id": "offXNAGtmGp_"
      },
      "execution_count": 328,
      "outputs": []
    },
    {
      "cell_type": "code",
      "source": [
        "%%time\n",
        "x = mergesort(data)"
      ],
      "metadata": {
        "colab": {
          "base_uri": "https://localhost:8080/"
        },
        "id": "oY5N_V-mmVIk",
        "outputId": "36374969-3049-4912-f792-06d537752147"
      },
      "execution_count": 363,
      "outputs": [
        {
          "output_type": "stream",
          "name": "stdout",
          "text": [
            "None\n",
            "CPU times: user 6.64 s, sys: 13.7 ms, total: 6.66 s\n",
            "Wall time: 6.68 s\n"
          ]
        }
      ]
    },
    {
      "cell_type": "markdown",
      "source": [
        "<h1> Реализация mergesort на numpy"
      ],
      "metadata": {
        "id": "3tjwYvhGnSA4"
      }
    },
    {
      "cell_type": "code",
      "source": [
        "data_np = np.array(data)"
      ],
      "metadata": {
        "id": "us1hRKuWoUGp"
      },
      "execution_count": 330,
      "outputs": []
    },
    {
      "cell_type": "code",
      "source": [
        "def numpy_mergesort(arr):\n",
        "    if len(arr) <= 1:\n",
        "        return arr\n",
        "\n",
        "    mid = len(arr) // 2\n",
        "    left_half, right_half = arr[:mid], arr[mid:]\n",
        "\n",
        "    left_sorted = numpy_mergesort(left_half)\n",
        "    right_sorted = numpy_mergesort(right_half)\n",
        "\n",
        "    return merge_np(left_sorted, right_sorted)\n"
      ],
      "metadata": {
        "id": "_fb5lJtRqupK"
      },
      "execution_count": 331,
      "outputs": []
    },
    {
      "cell_type": "code",
      "source": [
        "def merge_np(left, right):\n",
        "    result = np.empty(len(left) + len(right), dtype=left.dtype)\n",
        "    i, j, k = 0, 0, 0\n",
        "\n",
        "    while i < len(left) and j < len(right):\n",
        "        if left[i] < right[j]:\n",
        "            result[k] = left[i]\n",
        "            i += 1\n",
        "        else:\n",
        "            result[k] = right[j]\n",
        "            j += 1\n",
        "        k += 1\n",
        "\n",
        "    result[k:k+len(left)-i] = left[i:]\n",
        "    result[k+len(left)-i:] = right[j:]\n",
        "\n",
        "    return result"
      ],
      "metadata": {
        "id": "BympTiqIsx6R"
      },
      "execution_count": 332,
      "outputs": []
    },
    {
      "cell_type": "code",
      "source": [
        "%%time\n",
        "x = numpy_mergesort(data_np)"
      ],
      "metadata": {
        "colab": {
          "base_uri": "https://localhost:8080/"
        },
        "id": "jHcWXINDnlYo",
        "outputId": "e841dcb8-f2c5-43f8-af39-4a8cc4f2c578"
      },
      "execution_count": 341,
      "outputs": [
        {
          "output_type": "stream",
          "name": "stdout",
          "text": [
            "CPU times: user 12 s, sys: 129 ms, total: 12.1 s\n",
            "Wall time: 12.1 s\n"
          ]
        }
      ]
    },
    {
      "cell_type": "markdown",
      "source": [
        "<h1>Использование встроенной сортировки np.sort() </h1>"
      ],
      "metadata": {
        "id": "itmn_Y7s38M4"
      }
    },
    {
      "cell_type": "code",
      "source": [
        "%%time\n",
        "x = np.sort(data_np)"
      ],
      "metadata": {
        "colab": {
          "base_uri": "https://localhost:8080/"
        },
        "id": "DE2KzyxVqE2U",
        "outputId": "0fb78ba1-9e07-4ba2-901d-068edb770d3b"
      },
      "execution_count": 334,
      "outputs": [
        {
          "output_type": "stream",
          "name": "stdout",
          "text": [
            "CPU times: user 23.8 ms, sys: 4.02 ms, total: 27.8 ms\n",
            "Wall time: 28 ms\n"
          ]
        }
      ]
    },
    {
      "cell_type": "markdown",
      "source": [
        "<h1> Выводы из временных данных </h1>"
      ],
      "metadata": {
        "id": "bdDMIEMC2zAQ"
      }
    },
    {
      "cell_type": "markdown",
      "source": [
        "С учётом выполнения алгоритмов на одинаковых датасетах (генерация данных осуществлялась предварительно - 1_000_000 значений)\n",
        "- Реализация алгоритма mergesort на классическом Python - 7s.\n",
        "- Реализация алгоритма merge sort с использованием Numpy - 12s\n",
        "- Использование встроенной сортировки np.sort() - 28ms"
      ],
      "metadata": {
        "id": "IMu44d0U2712"
      }
    },
    {
      "cell_type": "markdown",
      "source": [
        "# Задание 3"
      ],
      "metadata": {
        "id": "_gS2j1culluI"
      }
    },
    {
      "cell_type": "markdown",
      "metadata": {
        "id": "ZMiX-RAdLZ16"
      },
      "source": [
        "У нас есть данные о потреблении алкоголя о потреблнеии Алкоголя в мире https://github.com/fivethirtyeight/data/tree/master/alcohol-consumption.\n",
        "\n",
        "Давайте представим эти данные в виде структурированных массивов и определим, где же люди пьют больше вина, пива и других спиртных напитков."
      ]
    },
    {
      "cell_type": "markdown",
      "source": [
        "<h1> Представим исходные данные в виде структурированного массива </h1>"
      ],
      "metadata": {
        "id": "KbcoxfPo4MVo"
      }
    },
    {
      "cell_type": "code",
      "source": [
        "dtype = [('country', '<U30'), ('beer_servings', '<i4'), ('spirit_servings', '<i4'), ('wine_servings', '<i4'), ('total_litres_of_pure_alcohol', '<f4')]\n",
        "data = np.genfromtxt('drinks.csv', delimiter=',', skip_header=1, dtype=dtype)"
      ],
      "metadata": {
        "id": "C5nLLusf4SLD"
      },
      "execution_count": 366,
      "outputs": []
    },
    {
      "cell_type": "markdown",
      "source": [
        "<h1>Определим, где пьют больше вина, пива и других спиртных напитков</h1>"
      ],
      "metadata": {
        "id": "qbcDMn_R4UJn"
      }
    },
    {
      "cell_type": "code",
      "source": [
        "print(\"beer_servings - \" , data[data[\"beer_servings\"] == max(data[\"beer_servings\"])][\"country\"][0])\n",
        "print(\"spirit_servings - \", data[data[\"spirit_servings\"] == max(data[\"spirit_servings\"])][\"country\"][0])\n",
        "print(\"wine_servings - \" , data[data[\"wine_servings\"] == max(data[\"wine_servings\"])][\"country\"][0])\n",
        "print(\"Наибольшее потребление алкоголя в -\", data[data[\"total_litres_of_pure_alcohol\"] == max(data[\"total_litres_of_pure_alcohol\"])][\"country\"][0])"
      ],
      "metadata": {
        "id": "ckL2aTAO4aPC"
      },
      "execution_count": null,
      "outputs": []
    },
    {
      "cell_type": "markdown",
      "source": [
        "#Задание 4"
      ],
      "metadata": {
        "id": "1x6zXGgdluJ0"
      }
    },
    {
      "cell_type": "markdown",
      "metadata": {
        "id": "Xdt7R2MzLZ16"
      },
      "source": [
        "У нас есть Полный каталог всех случаев, когда кто-то проклинал или истекал кровью в фильме Квентина Тарантино. https://github.com/fivethirtyeight/data/tree/master/tarantino\n",
        "\n",
        "Давайте представим эти данные в виде структурированных массивов и определим:\n",
        "\n",
        "- число проклятий, летальных исходов и их отношение по фильмам\n",
        "\n",
        "- частота употребления конкретных прокрятий\n",
        "\n",
        "- распределение времени между проклятиями"
      ]
    },
    {
      "cell_type": "code",
      "source": [
        "def get_count_of_words_and_deaths_per_movie (title, data):\n",
        "\n",
        "  \"\"\" Функция для вывода количества проклятий и смертей по конкретному фильму\"\"\"\n",
        "\n",
        "  print('В фильме ' + title + ' ' + str(len(data[np.logical_and(data['type'] == 'word', data['movie'] == title)])) + ' проклятий')\n",
        "  print('В фильме ' + title + ' ' + str(len(data[np.logical_and(data['type'] == 'death', data['movie'] == title)])) + ' летальных исходов')"
      ],
      "metadata": {
        "id": "L0H0VRI6g5P5"
      },
      "execution_count": 278,
      "outputs": []
    },
    {
      "cell_type": "markdown",
      "source": [
        "<h1> Представим исходные данные в виде структурированного массива"
      ],
      "metadata": {
        "id": "jGNRJUbM6FfJ"
      }
    },
    {
      "cell_type": "code",
      "source": [
        "dtype = [('movie', 'U50'), ('type', 'U50'), ('word', 'U50'), ('minutes_in', 'f4')]\n",
        "data = np.genfromtxt('tarantino.csv', delimiter=',', skip_header=1, dtype=dtype)"
      ],
      "metadata": {
        "id": "u9gAOOSMz2Cy"
      },
      "execution_count": 352,
      "outputs": []
    },
    {
      "cell_type": "markdown",
      "source": [
        "<h1>Число проклятий и летальных исходов </h1>"
      ],
      "metadata": {
        "id": "g_nBvO4uu3lt"
      }
    },
    {
      "cell_type": "code",
      "source": [
        "print(\"Число проклятий - \", len(data[data['type'] == 'word']))\n",
        "print(\"Число летальных исходов - \", len(data[data['type'] == 'death']))"
      ],
      "metadata": {
        "colab": {
          "base_uri": "https://localhost:8080/"
        },
        "id": "bNIM02P-uzln",
        "outputId": "ee38097b-22f7-4578-a7f5-dfbe262f960d"
      },
      "execution_count": 353,
      "outputs": [
        {
          "output_type": "stream",
          "name": "stdout",
          "text": [
            "Число проклятий -  1704\n",
            "Число летальных исходов -  190\n"
          ]
        }
      ]
    },
    {
      "cell_type": "markdown",
      "source": [
        "<h1> Отношение проклятий и летальных исходов по фильмам <h1>"
      ],
      "metadata": {
        "id": "Eb7EJnkNu8xi"
      }
    },
    {
      "cell_type": "code",
      "source": [
        "titles = np.unique(data['movie'])\n",
        "\n",
        "for i in range(len(titles)):\n",
        "  get_count_of_words_and_deaths_per_movie(titles[i], data)"
      ],
      "metadata": {
        "colab": {
          "base_uri": "https://localhost:8080/"
        },
        "id": "-s_dW2FNvD6l",
        "outputId": "c8e2b310-27b4-4330-9d73-7e36d67f350f"
      },
      "execution_count": 354,
      "outputs": [
        {
          "output_type": "stream",
          "name": "stdout",
          "text": [
            "В фильме Django Unchained 262 проклятий\n",
            "В фильме Django Unchained 47 летальных исходов\n",
            "В фильме Inglorious Basterds 58 проклятий\n",
            "В фильме Inglorious Basterds 48 летальных исходов\n",
            "В фильме Jackie Brown 368 проклятий\n",
            "В фильме Jackie Brown 4 летальных исходов\n",
            "В фильме Kill Bill: Vol. 1 57 проклятий\n",
            "В фильме Kill Bill: Vol. 1 63 летальных исходов\n",
            "В фильме Kill Bill: Vol. 2 69 проклятий\n",
            "В фильме Kill Bill: Vol. 2 11 летальных исходов\n",
            "В фильме Pulp Fiction 469 проклятий\n",
            "В фильме Pulp Fiction 7 летальных исходов\n",
            "В фильме Reservoir Dogs 421 проклятий\n",
            "В фильме Reservoir Dogs 10 летальных исходов\n"
          ]
        }
      ]
    },
    {
      "cell_type": "markdown",
      "source": [
        "<h1>Частота употребления конкретных проклятий</h1>"
      ],
      "metadata": {
        "id": "iuowvxKovYhP"
      }
    },
    {
      "cell_type": "code",
      "source": [
        "words = np.unique(data['word'])\n",
        "words = words[1:]\n",
        "for i in range(len(words)):\n",
        "  print(\"Слово \" + words[i] + \" употребляется \"  + str(len(data[data['word'] == words[i]])) + \" раз\")"
      ],
      "metadata": {
        "id": "04QJOfWcvcrH"
      },
      "execution_count": null,
      "outputs": []
    },
    {
      "cell_type": "markdown",
      "source": [
        "<h1>Распределение времени между проклятиями</h1>"
      ],
      "metadata": {
        "id": "MGTnL9x8vmba"
      }
    },
    {
      "cell_type": "code",
      "source": [
        "profane_events = data[data['type'] == 'word']['minutes_in']\n",
        "time_intervals = np.diff(profane_events)\n",
        "time_intervals = time_intervals[time_intervals >= 0]\n",
        "\n",
        "plt.hist(time_intervals, bins=10, edgecolor='k')\n",
        "plt.title(\"Распределение времени между проклятиями\")\n",
        "plt.xlabel(\"Время между проклятиями (минуты)\")\n",
        "plt.ylabel(\"Частота\")\n",
        "plt.grid(True)\n",
        "\n",
        "plt.show()"
      ],
      "metadata": {
        "colab": {
          "base_uri": "https://localhost:8080/",
          "height": 472
        },
        "id": "p1Ohg41AvqkS",
        "outputId": "d44c5d79-a620-49ae-ad57-ad06d2d24ed3"
      },
      "execution_count": 357,
      "outputs": [
        {
          "output_type": "display_data",
          "data": {
            "text/plain": [
              "<Figure size 640x480 with 1 Axes>"
            ],
            "image/png": "[encoded data removed]"
          },
          "metadata": {}
        }
      ]
    }
  ],
  "metadata": {
    "kernelspec": {
      "display_name": "Python 3",
      "language": "python",
      "name": "python3"
    },
    "language_info": {
      "codemirror_mode": {
        "name": "ipython",
        "version": 3
      },
      "file_extension": ".py",
      "mimetype": "text/x-python",
      "name": "python",
      "nbconvert_exporter": "python",
      "pygments_lexer": "ipython3",
      "version": "3.9.7"
    },
    "orig_nbformat": 4,
    "colab": {
      "provenance": [],
      "collapsed_sections": [
        "igzqj8U0lbRv",
        "4SnUXrwCLZ15",
        "_gS2j1culluI",
        "1x6zXGgdluJ0"
      ],
      "toc_visible": true
    }
  },
  "nbformat": 4,
  "nbformat_minor": 0
}